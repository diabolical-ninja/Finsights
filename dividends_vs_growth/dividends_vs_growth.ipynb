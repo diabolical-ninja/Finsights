{
 "cells": [
  {
   "cell_type": "markdown",
   "metadata": {},
   "source": [
    "# Dividends vs Growth\n",
    "\n",
    "Comparing the approaches of investing for dividends or growth over time"
   ]
  },
  {
   "cell_type": "code",
   "execution_count": 1,
   "metadata": {},
   "outputs": [
    {
     "name": "stderr",
     "output_type": "stream",
     "text": [
      "IOPub data rate exceeded.\n",
      "The notebook server will temporarily stop sending output\n",
      "to the client in order to avoid crashing it.\n",
      "To change this limit, set the config variable\n",
      "`--NotebookApp.iopub_data_rate_limit`.\n"
     ]
    }
   ],
   "source": [
    "import pandas as pd\n",
    "import numpy as np\n",
    "\n",
    "import plotly.graph_objs as go\n",
    "import plotly.plotly as py\n",
    "from plotly import tools\n",
    "from plotly.offline import download_plotlyjs, init_notebook_mode, plot, iplot\n",
    "\n",
    "from tax_calculator import tax\n",
    "from GrowthCalculator import GrowthCalculator\n",
    "\n",
    "# Allow plotly to operate within the notebook\n",
    "init_notebook_mode()\n",
    "\n",
    "%load_ext autoreload\n",
    "%autoreload 2"
   ]
  },
  {
   "cell_type": "code",
   "execution_count": 2,
   "metadata": {},
   "outputs": [],
   "source": [
    "# Setup Simulation Conditions\n",
    "starting_salary = 100000\n",
    "starting_capital = 10000\n",
    "number_of_years = 4"
   ]
  },
  {
   "cell_type": "code",
   "execution_count": 16,
   "metadata": {},
   "outputs": [],
   "source": [
    "# V1: Dividend Stocks\n",
    "divs = GrowthCalculator(\n",
    "        salary = starting_salary,\n",
    "        starting_investment = starting_capital,\n",
    "        capital_growth = 0.02,\n",
    "        dividend_payout = 0.07,\n",
    "        years = number_of_years\n",
    "    )\n",
    "\n",
    "divs.calculate_growth(final_year_liquidation=False)\n",
    "\n",
    "df_divs = pd.DataFrame(divs.investment_history)\n",
    "# df_divs"
   ]
  },
  {
   "cell_type": "code",
   "execution_count": 17,
   "metadata": {},
   "outputs": [],
   "source": [
    "# V2: Growth Stocks without liquidation\n",
    "growth_hold = GrowthCalculator(\n",
    "        salary = starting_salary,\n",
    "        starting_investment = starting_capital,\n",
    "        capital_growth = 0.07,\n",
    "        dividend_payout = 0.02,\n",
    "        years = number_of_years\n",
    "    )\n",
    "\n",
    "growth_hold.calculate_growth(final_year_liquidation=False)\n",
    "\n",
    "df_growth_hold = pd.DataFrame(growth_hold.investment_history)\n",
    "# df_growth_hold"
   ]
  },
  {
   "cell_type": "code",
   "execution_count": 18,
   "metadata": {},
   "outputs": [],
   "source": [
    "# V3: Growth Stocks with liquidation\n",
    "growth_sell = GrowthCalculator(\n",
    "        salary = starting_salary,\n",
    "        starting_investment = starting_capital,\n",
    "        capital_growth = 0.07,\n",
    "        dividend_payout = 0.02,\n",
    "        years = number_of_years\n",
    "#         years = 3\n",
    "    )\n",
    "\n",
    "growth_sell.calculate_growth(final_year_liquidation=True)\n",
    "\n",
    "df_growth_sell = pd.DataFrame(growth_sell.investment_history)\n",
    "# df_growth_sell"
   ]
  },
  {
   "cell_type": "code",
   "execution_count": 19,
   "metadata": {},
   "outputs": [
    {
     "name": "stdout",
     "output_type": "stream",
     "text": [
      "Dividend Plan\n",
      "{'Total Tax Paid': 1186.89, 'Total Earnings': 3207.81, 'Total Capital': 14188.48, 'Final Position': 13001.59}\n",
      "\n",
      "Growth Plan - Hold\n",
      "{'Total Tax Paid': 339.11, 'Total Earnings': 916.52, 'Total Capital': 14188.48, 'Final Position': 13849.37}\n",
      "\n",
      "Growth Plan - Sell\n",
      "{'Total Tax Paid': 934.43, 'Total Earnings': 916.52, 'Total Capital': 13496.95, 'Final Position': 13254.05}\n"
     ]
    }
   ],
   "source": [
    "print(\"Dividend Plan\")\n",
    "print(divs.summarised)\n",
    "\n",
    "print('')\n",
    "\n",
    "print(\"Growth Plan - Hold\")\n",
    "print(growth_hold.summarised)\n",
    "\n",
    "print('')\n",
    "\n",
    "print(\"Growth Plan - Sell\")\n",
    "print(growth_sell.summarised)"
   ]
  },
  {
   "cell_type": "code",
   "execution_count": null,
   "metadata": {},
   "outputs": [],
   "source": []
  },
  {
   "cell_type": "code",
   "execution_count": null,
   "metadata": {},
   "outputs": [],
   "source": []
  }
 ],
 "metadata": {
  "kernelspec": {
   "display_name": "Python 3",
   "language": "python",
   "name": "python3"
  },
  "language_info": {
   "codemirror_mode": {
    "name": "ipython",
    "version": 3
   },
   "file_extension": ".py",
   "mimetype": "text/x-python",
   "name": "python",
   "nbconvert_exporter": "python",
   "pygments_lexer": "ipython3",
   "version": "3.6.3"
  }
 },
 "nbformat": 4,
 "nbformat_minor": 2
}
