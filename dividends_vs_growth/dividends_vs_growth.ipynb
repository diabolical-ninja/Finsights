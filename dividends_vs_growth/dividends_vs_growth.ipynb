{
 "cells": [
  {
   "cell_type": "markdown",
   "metadata": {},
   "source": [
    "# Dividends vs Growth\n",
    "\n",
    "Comparing the approaches of investing for dividends or growth over time"
   ]
  },
  {
   "cell_type": "code",
   "execution_count": 4,
   "metadata": {},
   "outputs": [
    {
     "name": "stderr",
     "output_type": "stream",
     "text": [
      "IOPub data rate exceeded.\n",
      "The notebook server will temporarily stop sending output\n",
      "to the client in order to avoid crashing it.\n",
      "To change this limit, set the config variable\n",
      "`--NotebookApp.iopub_data_rate_limit`.\n"
     ]
    },
    {
     "name": "stdout",
     "output_type": "stream",
     "text": [
      "The autoreload extension is already loaded. To reload it, use:\n",
      "  %reload_ext autoreload\n"
     ]
    }
   ],
   "source": [
    "import pandas as pd\n",
    "import numpy as np\n",
    "\n",
    "import plotly.graph_objs as go\n",
    "import plotly.plotly as py\n",
    "from plotly import tools\n",
    "from plotly.offline import download_plotlyjs, init_notebook_mode, plot, iplot\n",
    "\n",
    "from tax_calculator import tax\n",
    "\n",
    "# Allow plotly to operate within the notebook\n",
    "init_notebook_mode()\n",
    "\n",
    "%load_ext autoreload\n",
    "%autoreload 2"
   ]
  },
  {
   "cell_type": "code",
   "execution_count": 27,
   "metadata": {},
   "outputs": [],
   "source": [
    "starting_capital = 1\n",
    "capital_growth = 0.07 # 7%\n",
    "dividend_payout = 0.04 # 4%\n",
    "\n",
    "\n",
    "salary = 100000\n",
    "num_years = 10"
   ]
  },
  {
   "cell_type": "code",
   "execution_count": 28,
   "metadata": {},
   "outputs": [
    {
     "data": {
      "text/plain": [
       "1.1128"
      ]
     },
     "execution_count": 28,
     "metadata": {},
     "output_type": "execute_result"
    }
   ],
   "source": [
    "# Year 2\n",
    "new_capital = (starting_capital*(1+dividend_payout))*(1+capital_growth)\n",
    "new_capital\n",
    "\n",
    "# tax(new_capital)"
   ]
  },
  {
   "cell_type": "code",
   "execution_count": 51,
   "metadata": {},
   "outputs": [],
   "source": [
    "def eoy_stats(year, salary, dividend_income, tax_paid, capital):\n",
    "\n",
    "    return {\n",
    "        'year': year,\n",
    "        'salary': salary,\n",
    "        'dividend_income': dividend_income,\n",
    "        'tax_paid': tax_paid,\n",
    "        'capital': capital\n",
    "    }"
   ]
  },
  {
   "cell_type": "code",
   "execution_count": 52,
   "metadata": {},
   "outputs": [],
   "source": [
    "# overall_capital = starting_capital\n",
    "overall_capital = 10000\n",
    "stat_history = []\n",
    "\n",
    "\n",
    "for i in range(1,num_years):\n",
    "    \n",
    "    dividend_income = overall_capital*dividend_payout\n",
    "    total_earnings = salary + dividend_income\n",
    "    \n",
    "    \n",
    "    overall_capital = (overall_capital*(1+dividend_payout))*(1+capital_growth)\n",
    "    capital_history.append(overall_capital)\n",
    "    \n",
    "    stat_history.append(eoy_stats(\n",
    "        year = i,\n",
    "        salary = salary,\n",
    "        dividend_income = dividend_income,\n",
    "        tax_paid = tax(total_earnings),\n",
    "        capital = overall_capital\n",
    "        ))"
   ]
  },
  {
   "cell_type": "code",
   "execution_count": 54,
   "metadata": {},
   "outputs": [
    {
     "data": {
      "text/html": [
       "<div>\n",
       "<style scoped>\n",
       "    .dataframe tbody tr th:only-of-type {\n",
       "        vertical-align: middle;\n",
       "    }\n",
       "\n",
       "    .dataframe tbody tr th {\n",
       "        vertical-align: top;\n",
       "    }\n",
       "\n",
       "    .dataframe thead th {\n",
       "        text-align: right;\n",
       "    }\n",
       "</style>\n",
       "<table border=\"1\" class=\"dataframe\">\n",
       "  <thead>\n",
       "    <tr style=\"text-align: right;\">\n",
       "      <th></th>\n",
       "      <th>capital</th>\n",
       "      <th>dividend_income</th>\n",
       "      <th>salary</th>\n",
       "      <th>tax_paid</th>\n",
       "      <th>year</th>\n",
       "    </tr>\n",
       "  </thead>\n",
       "  <tbody>\n",
       "    <tr>\n",
       "      <th>0</th>\n",
       "      <td>11128.000000</td>\n",
       "      <td>400.000000</td>\n",
       "      <td>100000</td>\n",
       "      <td>24645.000000</td>\n",
       "      <td>1</td>\n",
       "    </tr>\n",
       "    <tr>\n",
       "      <th>1</th>\n",
       "      <td>12383.238400</td>\n",
       "      <td>445.120000</td>\n",
       "      <td>100000</td>\n",
       "      <td>24661.694400</td>\n",
       "      <td>2</td>\n",
       "    </tr>\n",
       "    <tr>\n",
       "      <th>2</th>\n",
       "      <td>13780.067692</td>\n",
       "      <td>495.329536</td>\n",
       "      <td>100000</td>\n",
       "      <td>24680.271928</td>\n",
       "      <td>3</td>\n",
       "    </tr>\n",
       "    <tr>\n",
       "      <th>3</th>\n",
       "      <td>15334.459327</td>\n",
       "      <td>551.202708</td>\n",
       "      <td>100000</td>\n",
       "      <td>24700.945002</td>\n",
       "      <td>4</td>\n",
       "    </tr>\n",
       "    <tr>\n",
       "      <th>4</th>\n",
       "      <td>17064.186339</td>\n",
       "      <td>613.378373</td>\n",
       "      <td>100000</td>\n",
       "      <td>24723.949998</td>\n",
       "      <td>5</td>\n",
       "    </tr>\n",
       "    <tr>\n",
       "      <th>5</th>\n",
       "      <td>18989.026558</td>\n",
       "      <td>682.567454</td>\n",
       "      <td>100000</td>\n",
       "      <td>24749.549958</td>\n",
       "      <td>6</td>\n",
       "    </tr>\n",
       "    <tr>\n",
       "      <th>6</th>\n",
       "      <td>21130.988754</td>\n",
       "      <td>759.561062</td>\n",
       "      <td>100000</td>\n",
       "      <td>24778.037593</td>\n",
       "      <td>7</td>\n",
       "    </tr>\n",
       "    <tr>\n",
       "      <th>7</th>\n",
       "      <td>23514.564286</td>\n",
       "      <td>845.239550</td>\n",
       "      <td>100000</td>\n",
       "      <td>24809.738634</td>\n",
       "      <td>8</td>\n",
       "    </tr>\n",
       "    <tr>\n",
       "      <th>8</th>\n",
       "      <td>26167.007137</td>\n",
       "      <td>940.582571</td>\n",
       "      <td>100000</td>\n",
       "      <td>24845.015551</td>\n",
       "      <td>9</td>\n",
       "    </tr>\n",
       "  </tbody>\n",
       "</table>\n",
       "</div>"
      ],
      "text/plain": [
       "        capital  dividend_income  salary      tax_paid  year\n",
       "0  11128.000000       400.000000  100000  24645.000000     1\n",
       "1  12383.238400       445.120000  100000  24661.694400     2\n",
       "2  13780.067692       495.329536  100000  24680.271928     3\n",
       "3  15334.459327       551.202708  100000  24700.945002     4\n",
       "4  17064.186339       613.378373  100000  24723.949998     5\n",
       "5  18989.026558       682.567454  100000  24749.549958     6\n",
       "6  21130.988754       759.561062  100000  24778.037593     7\n",
       "7  23514.564286       845.239550  100000  24809.738634     8\n",
       "8  26167.007137       940.582571  100000  24845.015551     9"
      ]
     },
     "execution_count": 54,
     "metadata": {},
     "output_type": "execute_result"
    }
   ],
   "source": [
    "df = pd.DataFrame(stat_history)\n",
    "df"
   ]
  },
  {
   "cell_type": "code",
   "execution_count": 47,
   "metadata": {},
   "outputs": [
    {
     "data": {
      "text/plain": [
       "0     400.000000\n",
       "1     445.120000\n",
       "2     495.329536\n",
       "3     551.202708\n",
       "4     613.378373\n",
       "5     682.567454\n",
       "6     759.561062\n",
       "7     845.239550\n",
       "8     940.582571\n",
       "9    1046.680285\n",
       "dtype: float64"
      ]
     },
     "execution_count": 47,
     "metadata": {},
     "output_type": "execute_result"
    }
   ],
   "source": [
    "df.apply(lambda x: x['dividend_income'], axis = 1)"
   ]
  },
  {
   "cell_type": "code",
   "execution_count": 66,
   "metadata": {},
   "outputs": [
    {
     "data": {
      "text/plain": [
       "26167.007136927077"
      ]
     },
     "execution_count": 66,
     "metadata": {},
     "output_type": "execute_result"
    }
   ],
   "source": [
    "stat_history[-1]['capital']"
   ]
  },
  {
   "cell_type": "code",
   "execution_count": 64,
   "metadata": {},
   "outputs": [
    {
     "name": "stdout",
     "output_type": "stream",
     "text": [
      "1057.6372692477576\n"
     ]
    }
   ],
   "source": [
    "total_capital_gains = sum([taxable_capital_gains(x['dividend_income'], (num_years - x['year'])) for x in stat_history])\n",
    "print(total_capital_gains)"
   ]
  },
  {
   "cell_type": "code",
   "execution_count": 61,
   "metadata": {},
   "outputs": [],
   "source": [
    "def taxable_capital_gains(initial_investment, years_held):\n",
    "    \n",
    "    current_value = compound_interest(initial_investment, capital_growth, 1, years_held)\n",
    "    capital_gain = current_value - initial_investment\n",
    "    \n",
    "    if(years_held > 1):\n",
    "        return capital_gain/2\n",
    "    else:\n",
    "        return capital_gain"
   ]
  },
  {
   "cell_type": "code",
   "execution_count": 46,
   "metadata": {},
   "outputs": [],
   "source": [
    "def compound_interest(principal, interest_rate, compounds_per_year, years):\n",
    "        \"\"\"Compound Interest Calculator\n",
    "        \n",
    "        Args:\n",
    "            principal (float): Initial principal \n",
    "            interest_rate (float): Interest Rate % as a decimal\n",
    "            compounds_per_year (int): Number of compound events per year\n",
    "            years (float): Number of years to compount over\n",
    "        \n",
    "        Returns:\n",
    "            float: Final return\n",
    "        \"\"\"\n",
    "\n",
    "        return principal * (1 + interest_rate/compounds_per_year) ** (compounds_per_year * years)"
   ]
  },
  {
   "cell_type": "code",
   "execution_count": 152,
   "metadata": {},
   "outputs": [],
   "source": [
    "from GrowthCalculator import GrowthCalculator"
   ]
  },
  {
   "cell_type": "code",
   "execution_count": 173,
   "metadata": {},
   "outputs": [
    {
     "data": {
      "text/html": [
       "<div>\n",
       "<style scoped>\n",
       "    .dataframe tbody tr th:only-of-type {\n",
       "        vertical-align: middle;\n",
       "    }\n",
       "\n",
       "    .dataframe tbody tr th {\n",
       "        vertical-align: top;\n",
       "    }\n",
       "\n",
       "    .dataframe thead th {\n",
       "        text-align: right;\n",
       "    }\n",
       "</style>\n",
       "<table border=\"1\" class=\"dataframe\">\n",
       "  <thead>\n",
       "    <tr style=\"text-align: right;\">\n",
       "      <th></th>\n",
       "      <th>capital</th>\n",
       "      <th>dividend_income</th>\n",
       "      <th>excess_tax</th>\n",
       "      <th>salary</th>\n",
       "      <th>year</th>\n",
       "    </tr>\n",
       "  </thead>\n",
       "  <tbody>\n",
       "    <tr>\n",
       "      <th>0</th>\n",
       "      <td>10000.000000</td>\n",
       "      <td>0.000000</td>\n",
       "      <td>0.000000</td>\n",
       "      <td>100000</td>\n",
       "      <td>0</td>\n",
       "    </tr>\n",
       "    <tr>\n",
       "      <th>1</th>\n",
       "      <td>10914.000000</td>\n",
       "      <td>200.000000</td>\n",
       "      <td>74.000000</td>\n",
       "      <td>100000</td>\n",
       "      <td>1</td>\n",
       "    </tr>\n",
       "    <tr>\n",
       "      <th>2</th>\n",
       "      <td>11911.539600</td>\n",
       "      <td>218.280000</td>\n",
       "      <td>80.763600</td>\n",
       "      <td>100000</td>\n",
       "      <td>2</td>\n",
       "    </tr>\n",
       "    <tr>\n",
       "      <th>3</th>\n",
       "      <td>13000.254319</td>\n",
       "      <td>238.230792</td>\n",
       "      <td>88.145393</td>\n",
       "      <td>100000</td>\n",
       "      <td>3</td>\n",
       "    </tr>\n",
       "    <tr>\n",
       "      <th>4</th>\n",
       "      <td>14188.477564</td>\n",
       "      <td>260.005086</td>\n",
       "      <td>96.201882</td>\n",
       "      <td>100000</td>\n",
       "      <td>4</td>\n",
       "    </tr>\n",
       "    <tr>\n",
       "      <th>5</th>\n",
       "      <td>15485.304414</td>\n",
       "      <td>283.769551</td>\n",
       "      <td>104.994734</td>\n",
       "      <td>100000</td>\n",
       "      <td>5</td>\n",
       "    </tr>\n",
       "    <tr>\n",
       "      <th>6</th>\n",
       "      <td>16900.661237</td>\n",
       "      <td>309.706088</td>\n",
       "      <td>114.591253</td>\n",
       "      <td>100000</td>\n",
       "      <td>6</td>\n",
       "    </tr>\n",
       "    <tr>\n",
       "      <th>7</th>\n",
       "      <td>18445.381674</td>\n",
       "      <td>338.013225</td>\n",
       "      <td>125.064893</td>\n",
       "      <td>100000</td>\n",
       "      <td>7</td>\n",
       "    </tr>\n",
       "    <tr>\n",
       "      <th>8</th>\n",
       "      <td>20131.289559</td>\n",
       "      <td>368.907633</td>\n",
       "      <td>136.495824</td>\n",
       "      <td>100000</td>\n",
       "      <td>8</td>\n",
       "    </tr>\n",
       "    <tr>\n",
       "      <th>9</th>\n",
       "      <td>21971.289425</td>\n",
       "      <td>402.625791</td>\n",
       "      <td>148.971543</td>\n",
       "      <td>100000</td>\n",
       "      <td>9</td>\n",
       "    </tr>\n",
       "    <tr>\n",
       "      <th>10</th>\n",
       "      <td>23979.465278</td>\n",
       "      <td>439.425788</td>\n",
       "      <td>162.587542</td>\n",
       "      <td>100000</td>\n",
       "      <td>10</td>\n",
       "    </tr>\n",
       "  </tbody>\n",
       "</table>\n",
       "</div>"
      ],
      "text/plain": [
       "         capital  dividend_income  excess_tax  salary  year\n",
       "0   10000.000000         0.000000    0.000000  100000     0\n",
       "1   10914.000000       200.000000   74.000000  100000     1\n",
       "2   11911.539600       218.280000   80.763600  100000     2\n",
       "3   13000.254319       238.230792   88.145393  100000     3\n",
       "4   14188.477564       260.005086   96.201882  100000     4\n",
       "5   15485.304414       283.769551  104.994734  100000     5\n",
       "6   16900.661237       309.706088  114.591253  100000     6\n",
       "7   18445.381674       338.013225  125.064893  100000     7\n",
       "8   20131.289559       368.907633  136.495824  100000     8\n",
       "9   21971.289425       402.625791  148.971543  100000     9\n",
       "10  23979.465278       439.425788  162.587542  100000    10"
      ]
     },
     "execution_count": 173,
     "metadata": {},
     "output_type": "execute_result"
    }
   ],
   "source": [
    "gc_liquidation = GrowthCalculator(\n",
    "        salary = 100000,\n",
    "        starting_investment = 10000,\n",
    "        capital_growth = 0.07,\n",
    "        dividend_payout = 0.02,\n",
    "        years = 10\n",
    ")\n",
    "\n",
    "gc_liquidation.calculate_growth(final_year_liquidation=False)\n",
    "\n",
    "df_with_liquidation = pd.DataFrame(gc_liquidation.investment_history)\n",
    "df_with_liquidation"
   ]
  },
  {
   "cell_type": "code",
   "execution_count": 174,
   "metadata": {},
   "outputs": [
    {
     "data": {
      "text/html": [
       "<div>\n",
       "<style scoped>\n",
       "    .dataframe tbody tr th:only-of-type {\n",
       "        vertical-align: middle;\n",
       "    }\n",
       "\n",
       "    .dataframe tbody tr th {\n",
       "        vertical-align: top;\n",
       "    }\n",
       "\n",
       "    .dataframe thead th {\n",
       "        text-align: right;\n",
       "    }\n",
       "</style>\n",
       "<table border=\"1\" class=\"dataframe\">\n",
       "  <thead>\n",
       "    <tr style=\"text-align: right;\">\n",
       "      <th></th>\n",
       "      <th>capital</th>\n",
       "      <th>dividend_income</th>\n",
       "      <th>excess_tax</th>\n",
       "      <th>salary</th>\n",
       "      <th>year</th>\n",
       "    </tr>\n",
       "  </thead>\n",
       "  <tbody>\n",
       "    <tr>\n",
       "      <th>0</th>\n",
       "      <td>10000.000000</td>\n",
       "      <td>0.000000</td>\n",
       "      <td>0.000000</td>\n",
       "      <td>100000</td>\n",
       "      <td>0</td>\n",
       "    </tr>\n",
       "    <tr>\n",
       "      <th>1</th>\n",
       "      <td>10914.000000</td>\n",
       "      <td>700.000000</td>\n",
       "      <td>259.000000</td>\n",
       "      <td>100000</td>\n",
       "      <td>1</td>\n",
       "    </tr>\n",
       "    <tr>\n",
       "      <th>2</th>\n",
       "      <td>11911.539600</td>\n",
       "      <td>763.980000</td>\n",
       "      <td>282.672600</td>\n",
       "      <td>100000</td>\n",
       "      <td>2</td>\n",
       "    </tr>\n",
       "    <tr>\n",
       "      <th>3</th>\n",
       "      <td>13000.254319</td>\n",
       "      <td>833.807772</td>\n",
       "      <td>308.508876</td>\n",
       "      <td>100000</td>\n",
       "      <td>3</td>\n",
       "    </tr>\n",
       "    <tr>\n",
       "      <th>4</th>\n",
       "      <td>14188.477564</td>\n",
       "      <td>910.017802</td>\n",
       "      <td>336.706587</td>\n",
       "      <td>100000</td>\n",
       "      <td>4</td>\n",
       "    </tr>\n",
       "    <tr>\n",
       "      <th>5</th>\n",
       "      <td>15485.304414</td>\n",
       "      <td>993.193429</td>\n",
       "      <td>367.481569</td>\n",
       "      <td>100000</td>\n",
       "      <td>5</td>\n",
       "    </tr>\n",
       "    <tr>\n",
       "      <th>6</th>\n",
       "      <td>16900.661237</td>\n",
       "      <td>1083.971309</td>\n",
       "      <td>401.069384</td>\n",
       "      <td>100000</td>\n",
       "      <td>6</td>\n",
       "    </tr>\n",
       "    <tr>\n",
       "      <th>7</th>\n",
       "      <td>18445.381674</td>\n",
       "      <td>1183.046287</td>\n",
       "      <td>437.727126</td>\n",
       "      <td>100000</td>\n",
       "      <td>7</td>\n",
       "    </tr>\n",
       "    <tr>\n",
       "      <th>8</th>\n",
       "      <td>20131.289559</td>\n",
       "      <td>1291.176717</td>\n",
       "      <td>477.735385</td>\n",
       "      <td>100000</td>\n",
       "      <td>8</td>\n",
       "    </tr>\n",
       "    <tr>\n",
       "      <th>9</th>\n",
       "      <td>21971.289425</td>\n",
       "      <td>1409.190269</td>\n",
       "      <td>521.400400</td>\n",
       "      <td>100000</td>\n",
       "      <td>9</td>\n",
       "    </tr>\n",
       "    <tr>\n",
       "      <th>10</th>\n",
       "      <td>23979.465278</td>\n",
       "      <td>1537.990260</td>\n",
       "      <td>569.056396</td>\n",
       "      <td>100000</td>\n",
       "      <td>10</td>\n",
       "    </tr>\n",
       "  </tbody>\n",
       "</table>\n",
       "</div>"
      ],
      "text/plain": [
       "         capital  dividend_income  excess_tax  salary  year\n",
       "0   10000.000000         0.000000    0.000000  100000     0\n",
       "1   10914.000000       700.000000  259.000000  100000     1\n",
       "2   11911.539600       763.980000  282.672600  100000     2\n",
       "3   13000.254319       833.807772  308.508876  100000     3\n",
       "4   14188.477564       910.017802  336.706587  100000     4\n",
       "5   15485.304414       993.193429  367.481569  100000     5\n",
       "6   16900.661237      1083.971309  401.069384  100000     6\n",
       "7   18445.381674      1183.046287  437.727126  100000     7\n",
       "8   20131.289559      1291.176717  477.735385  100000     8\n",
       "9   21971.289425      1409.190269  521.400400  100000     9\n",
       "10  23979.465278      1537.990260  569.056396  100000    10"
      ]
     },
     "execution_count": 174,
     "metadata": {},
     "output_type": "execute_result"
    }
   ],
   "source": [
    "gc_wo_liquidation = GrowthCalculator(\n",
    "        salary = 100000,\n",
    "        starting_investment = 10000,\n",
    "        capital_growth = 0.02,\n",
    "        dividend_payout = 0.07,\n",
    "        years = 10\n",
    ")\n",
    "\n",
    "gc_wo_liquidation.calculate_growth(final_year_liquidation=False)\n",
    "\n",
    "df_without_liquidation = pd.DataFrame(gc_wo_liquidation.investment_history)\n",
    "df_without_liquidation"
   ]
  },
  {
   "cell_type": "code",
   "execution_count": 175,
   "metadata": {},
   "outputs": [
    {
     "name": "stdout",
     "output_type": "stream",
     "text": [
      "Dividend Plan\n",
      "{'Total Tax Paid': 3961.36, 'Total Earnings': 10706.37, 'Total Capital': 23979.47, 'Final Position': 20018.11}\n",
      "\n",
      "\n",
      "Growth Plan\n",
      "{'Total Tax Paid': 1131.82, 'Total Earnings': 3058.96, 'Total Capital': 23979.47, 'Final Position': 22847.65}\n"
     ]
    }
   ],
   "source": [
    "print(\"Dividend Plan\")\n",
    "print(gc_wo_liquidation.summarise())\n",
    "\n",
    "print('')\n",
    "print('')\n",
    "\n",
    "print(\"Growth Plan\")\n",
    "print(gc_liquidation.summarise())"
   ]
  },
  {
   "cell_type": "code",
   "execution_count": null,
   "metadata": {},
   "outputs": [],
   "source": []
  },
  {
   "cell_type": "code",
   "execution_count": null,
   "metadata": {},
   "outputs": [],
   "source": []
  },
  {
   "cell_type": "code",
   "execution_count": null,
   "metadata": {},
   "outputs": [],
   "source": []
  }
 ],
 "metadata": {
  "kernelspec": {
   "display_name": "Python 3",
   "language": "python",
   "name": "python3"
  },
  "language_info": {
   "codemirror_mode": {
    "name": "ipython",
    "version": 3
   },
   "file_extension": ".py",
   "mimetype": "text/x-python",
   "name": "python",
   "nbconvert_exporter": "python",
   "pygments_lexer": "ipython3",
   "version": "3.6.3"
  }
 },
 "nbformat": 4,
 "nbformat_minor": 2
}
