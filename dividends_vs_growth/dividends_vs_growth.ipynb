{
 "cells": [
  {
   "cell_type": "markdown",
   "metadata": {},
   "source": [
    "# Dividends vs Growth\n",
    "\n",
    "Comparing the approaches of investing for dividends or growth over time"
   ]
  },
  {
   "cell_type": "code",
   "execution_count": 1,
   "metadata": {},
   "outputs": [
    {
     "name": "stderr",
     "output_type": "stream",
     "text": [
      "IOPub data rate exceeded.\n",
      "The notebook server will temporarily stop sending output\n",
      "to the client in order to avoid crashing it.\n",
      "To change this limit, set the config variable\n",
      "`--NotebookApp.iopub_data_rate_limit`.\n"
     ]
    }
   ],
   "source": [
    "import pandas as pd\n",
    "import numpy as np\n",
    "\n",
    "import plotly.graph_objs as go\n",
    "import plotly.plotly as py\n",
    "from plotly import tools\n",
    "from plotly.offline import download_plotlyjs, init_notebook_mode, plot, iplot\n",
    "\n",
    "from tax_calculator import tax\n",
    "from GrowthCalculator import GrowthCalculator\n",
    "\n",
    "# Allow plotly to operate within the notebook\n",
    "init_notebook_mode()\n",
    "\n",
    "%load_ext autoreload\n",
    "%autoreload 2"
   ]
  },
  {
   "cell_type": "code",
   "execution_count": 31,
   "metadata": {},
   "outputs": [],
   "source": [
    "# Setup Simulation Conditions\n",
    "starting_salary = 100000\n",
    "starting_capital = 10000\n",
    "number_of_years = 30"
   ]
  },
  {
   "cell_type": "code",
   "execution_count": 32,
   "metadata": {},
   "outputs": [],
   "source": [
    "# V1: Dividend Stocks\n",
    "divs = GrowthCalculator(\n",
    "        salary = starting_salary,\n",
    "        starting_investment = starting_capital,\n",
    "        capital_growth = 0.04,\n",
    "        dividend_payout = 0.05,\n",
    "        years = number_of_years\n",
    "    )\n",
    "\n",
    "divs.calculate_growth(final_year_liquidation=False)\n",
    "\n",
    "df_divs = pd.DataFrame(divs.investment_history)\n",
    "# df_divs"
   ]
  },
  {
   "cell_type": "code",
   "execution_count": 33,
   "metadata": {},
   "outputs": [],
   "source": [
    "# V2: Growth Stocks without liquidation\n",
    "growth_hold = GrowthCalculator(\n",
    "        salary = starting_salary,\n",
    "        starting_investment = starting_capital,\n",
    "        capital_growth = 0.07,\n",
    "        dividend_payout = 0.02,\n",
    "        years = number_of_years\n",
    "    )\n",
    "\n",
    "growth_hold.calculate_growth(final_year_liquidation=False)\n",
    "\n",
    "df_growth_hold = pd.DataFrame(growth_hold.investment_history)\n",
    "# df_growth_hold"
   ]
  },
  {
   "cell_type": "code",
   "execution_count": 77,
   "metadata": {},
   "outputs": [],
   "source": [
    "# V3: Growth Stocks with liquidation\n",
    "growth_sell = GrowthCalculator(\n",
    "        salary = starting_salary,\n",
    "        starting_investment = starting_capital,\n",
    "        capital_growth = 0.07,\n",
    "        dividend_payout = 0.02,\n",
    "        years = number_of_years\n",
    "    )\n",
    "\n",
    "growth_sell.calculate_growth(final_year_liquidation=True)\n",
    "\n",
    "df_growth_sell = pd.DataFrame(growth_sell.investment_history)\n",
    "# df_growth_sell"
   ]
  },
  {
   "cell_type": "code",
   "execution_count": 78,
   "metadata": {},
   "outputs": [
    {
     "name": "stdout",
     "output_type": "stream",
     "text": [
      "Dividend Plan\n",
      "{'Total Tax Paid': 26177.05, 'Total Earnings': 70748.79, 'Total Capital': 140177.77, 'Final Position': 114000.72}\n",
      "\n",
      "Growth Plan - Hold\n",
      "{'Total Tax Paid': 10353.97, 'Total Earnings': 27983.69, 'Total Capital': 137885.46, 'Final Position': 127531.5}\n",
      "\n",
      "Growth Plan - Sell\n",
      "{'Total Tax Paid': 28118.27, 'Total Earnings': 27983.69, 'Total Capital': 119186.26, 'Final Position': 91067.99}\n"
     ]
    }
   ],
   "source": [
    "print(\"Dividend Plan\")\n",
    "print(divs.summarise())\n",
    "\n",
    "print('')\n",
    "\n",
    "print(\"Growth Plan - Hold\")\n",
    "print(growth_hold.summarise())\n",
    "\n",
    "print('')\n",
    "\n",
    "print(\"Growth Plan - Sell\")\n",
    "print(growth_sell.summarise())"
   ]
  },
  {
   "cell_type": "code",
   "execution_count": null,
   "metadata": {},
   "outputs": [],
   "source": []
  }
 ],
 "metadata": {
  "kernelspec": {
   "display_name": "Python 3",
   "language": "python",
   "name": "python3"
  },
  "language_info": {
   "codemirror_mode": {
    "name": "ipython",
    "version": 3
   },
   "file_extension": ".py",
   "mimetype": "text/x-python",
   "name": "python",
   "nbconvert_exporter": "python",
   "pygments_lexer": "ipython3",
   "version": "3.6.3"
  }
 },
 "nbformat": 4,
 "nbformat_minor": 2
}
