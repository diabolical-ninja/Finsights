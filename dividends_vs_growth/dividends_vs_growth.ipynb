{
 "cells": [
  {
   "cell_type": "markdown",
   "metadata": {},
   "source": [
    "# Dividends vs Growth\n",
    "\n",
    "Comparing the approaches of investing for dividends or growth over time"
   ]
  },
  {
   "cell_type": "code",
   "execution_count": 96,
   "metadata": {},
   "outputs": [
    {
     "name": "stderr",
     "output_type": "stream",
     "text": [
      "IOPub data rate exceeded.\n",
      "The notebook server will temporarily stop sending output\n",
      "to the client in order to avoid crashing it.\n",
      "To change this limit, set the config variable\n",
      "`--NotebookApp.iopub_data_rate_limit`.\n"
     ]
    },
    {
     "name": "stdout",
     "output_type": "stream",
     "text": [
      "The autoreload extension is already loaded. To reload it, use:\n",
      "  %reload_ext autoreload\n"
     ]
    }
   ],
   "source": [
    "import pandas as pd\n",
    "import numpy as np\n",
    "\n",
    "import plotly.graph_objs as go\n",
    "import plotly.plotly as py\n",
    "from plotly import tools\n",
    "from plotly.offline import download_plotlyjs, init_notebook_mode, plot, iplot\n",
    "\n",
    "from tax_calculator import tax\n",
    "from GrowthCalculator import GrowthCalculator\n",
    "\n",
    "# Allow plotly to operate within the notebook\n",
    "init_notebook_mode()\n",
    "\n",
    "%load_ext autoreload\n",
    "%autoreload 2"
   ]
  },
  {
   "cell_type": "code",
   "execution_count": 98,
   "metadata": {},
   "outputs": [],
   "source": [
    "# Setup Simulation Conditions\n",
    "starting_salary = 100000\n",
    "starting_capital = 10000\n",
    "number_of_years = 10"
   ]
  },
  {
   "cell_type": "code",
   "execution_count": 99,
   "metadata": {},
   "outputs": [],
   "source": [
    "# V1: Dividend Stocks\n",
    "divs = GrowthCalculator(\n",
    "        salary = starting_salary,\n",
    "        starting_investment = starting_capital,\n",
    "        capital_growth = 0.02,\n",
    "        dividend_payout = 0.07,\n",
    "        years = number_of_years\n",
    "    )\n",
    "\n",
    "divs.calculate_growth(final_year_liquidation=False)\n",
    "\n",
    "df_divs = pd.DataFrame(divs.investment_history)\n",
    "# df_divs"
   ]
  },
  {
   "cell_type": "code",
   "execution_count": 101,
   "metadata": {},
   "outputs": [],
   "source": [
    "# V2: Growth Stocks without liquidation\n",
    "growth_hold = GrowthCalculator(\n",
    "        salary = starting_salary,\n",
    "        starting_investment = starting_capital,\n",
    "        capital_growth = 0.07,\n",
    "        dividend_payout = 0.02,\n",
    "        years = number_of_years\n",
    "    )\n",
    "\n",
    "growth_hold.calculate_growth(final_year_liquidation=False)\n",
    "\n",
    "df_growth_hold = pd.DataFrame(growth_hold.investment_history)\n",
    "# df_growth_hold"
   ]
  },
  {
   "cell_type": "code",
   "execution_count": 105,
   "metadata": {},
   "outputs": [
    {
     "data": {
      "text/html": [
       "<div>\n",
       "<style scoped>\n",
       "    .dataframe tbody tr th:only-of-type {\n",
       "        vertical-align: middle;\n",
       "    }\n",
       "\n",
       "    .dataframe tbody tr th {\n",
       "        vertical-align: top;\n",
       "    }\n",
       "\n",
       "    .dataframe thead th {\n",
       "        text-align: right;\n",
       "    }\n",
       "</style>\n",
       "<table border=\"1\" class=\"dataframe\">\n",
       "  <thead>\n",
       "    <tr style=\"text-align: right;\">\n",
       "      <th></th>\n",
       "      <th>capital</th>\n",
       "      <th>dividend_income</th>\n",
       "      <th>excess_tax</th>\n",
       "      <th>salary</th>\n",
       "      <th>year</th>\n",
       "    </tr>\n",
       "  </thead>\n",
       "  <tbody>\n",
       "    <tr>\n",
       "      <th>0</th>\n",
       "      <td>10000.000000</td>\n",
       "      <td>0.000000</td>\n",
       "      <td>0.000000</td>\n",
       "      <td>100000</td>\n",
       "      <td>0</td>\n",
       "    </tr>\n",
       "    <tr>\n",
       "      <th>1</th>\n",
       "      <td>10914.000000</td>\n",
       "      <td>200.000000</td>\n",
       "      <td>74.000000</td>\n",
       "      <td>100000</td>\n",
       "      <td>1</td>\n",
       "    </tr>\n",
       "    <tr>\n",
       "      <th>2</th>\n",
       "      <td>11911.539600</td>\n",
       "      <td>218.280000</td>\n",
       "      <td>80.763600</td>\n",
       "      <td>100000</td>\n",
       "      <td>2</td>\n",
       "    </tr>\n",
       "    <tr>\n",
       "      <th>3</th>\n",
       "      <td>13000.254319</td>\n",
       "      <td>238.230792</td>\n",
       "      <td>88.145393</td>\n",
       "      <td>100000</td>\n",
       "      <td>3</td>\n",
       "    </tr>\n",
       "    <tr>\n",
       "      <th>4</th>\n",
       "      <td>14188.477564</td>\n",
       "      <td>260.005086</td>\n",
       "      <td>96.201882</td>\n",
       "      <td>100000</td>\n",
       "      <td>4</td>\n",
       "    </tr>\n",
       "    <tr>\n",
       "      <th>5</th>\n",
       "      <td>15485.304414</td>\n",
       "      <td>283.769551</td>\n",
       "      <td>104.994734</td>\n",
       "      <td>100000</td>\n",
       "      <td>5</td>\n",
       "    </tr>\n",
       "    <tr>\n",
       "      <th>6</th>\n",
       "      <td>16900.661237</td>\n",
       "      <td>309.706088</td>\n",
       "      <td>114.591253</td>\n",
       "      <td>100000</td>\n",
       "      <td>6</td>\n",
       "    </tr>\n",
       "    <tr>\n",
       "      <th>7</th>\n",
       "      <td>18445.381674</td>\n",
       "      <td>338.013225</td>\n",
       "      <td>125.064893</td>\n",
       "      <td>100000</td>\n",
       "      <td>7</td>\n",
       "    </tr>\n",
       "    <tr>\n",
       "      <th>8</th>\n",
       "      <td>20131.289559</td>\n",
       "      <td>368.907633</td>\n",
       "      <td>136.495824</td>\n",
       "      <td>100000</td>\n",
       "      <td>8</td>\n",
       "    </tr>\n",
       "    <tr>\n",
       "      <th>9</th>\n",
       "      <td>21971.289425</td>\n",
       "      <td>402.625791</td>\n",
       "      <td>148.971543</td>\n",
       "      <td>100000</td>\n",
       "      <td>9</td>\n",
       "    </tr>\n",
       "    <tr>\n",
       "      <th>10</th>\n",
       "      <td>21843.509282</td>\n",
       "      <td>439.425788</td>\n",
       "      <td>2135.955996</td>\n",
       "      <td>100000</td>\n",
       "      <td>10</td>\n",
       "    </tr>\n",
       "  </tbody>\n",
       "</table>\n",
       "</div>"
      ],
      "text/plain": [
       "         capital  dividend_income   excess_tax  salary  year\n",
       "0   10000.000000         0.000000     0.000000  100000     0\n",
       "1   10914.000000       200.000000    74.000000  100000     1\n",
       "2   11911.539600       218.280000    80.763600  100000     2\n",
       "3   13000.254319       238.230792    88.145393  100000     3\n",
       "4   14188.477564       260.005086    96.201882  100000     4\n",
       "5   15485.304414       283.769551   104.994734  100000     5\n",
       "6   16900.661237       309.706088   114.591253  100000     6\n",
       "7   18445.381674       338.013225   125.064893  100000     7\n",
       "8   20131.289559       368.907633   136.495824  100000     8\n",
       "9   21971.289425       402.625791   148.971543  100000     9\n",
       "10  21843.509282       439.425788  2135.955996  100000    10"
      ]
     },
     "execution_count": 105,
     "metadata": {},
     "output_type": "execute_result"
    }
   ],
   "source": [
    "# V3: Growth Stocks with liquidation\n",
    "growth_sell = GrowthCalculator(\n",
    "        salary = starting_salary,\n",
    "        starting_investment = starting_capital,\n",
    "        capital_growth = 0.07,\n",
    "        dividend_payout = 0.02,\n",
    "        years = number_of_years\n",
    "    )\n",
    "\n",
    "growth_sell.calculate_growth(final_year_liquidation=True)\n",
    "\n",
    "df_growth_sell = pd.DataFrame(growth_sell.investment_history)\n",
    "df_growth_sell"
   ]
  },
  {
   "cell_type": "code",
   "execution_count": 104,
   "metadata": {},
   "outputs": [
    {
     "name": "stdout",
     "output_type": "stream",
     "text": [
      "Dividend Plan\n",
      "{'Total Tax Paid': 3961.36, 'Total Earnings': 10706.37, 'Total Capital': 23979.47, 'Final Position': 20018.11}\n",
      "\n",
      "Growth Plan - Hold\n",
      "{'Total Tax Paid': 1131.82, 'Total Earnings': 3058.96, 'Total Capital': 23979.47, 'Final Position': 22847.65}\n",
      "\n",
      "Growth Plan - Sell\n",
      "{'Total Tax Paid': 3105.19, 'Total Earnings': 3058.96, 'Total Capital': 21843.51, 'Final Position': 21843.51}\n"
     ]
    }
   ],
   "source": [
    "print(\"Dividend Plan\")\n",
    "print(divs.summarised)\n",
    "\n",
    "print('')\n",
    "\n",
    "print(\"Growth Plan - Hold\")\n",
    "print(growth_hold.summarised)\n",
    "\n",
    "print('')\n",
    "\n",
    "print(\"Growth Plan - Sell\")\n",
    "print(growth_sell.summarised)"
   ]
  },
  {
   "cell_type": "code",
   "execution_count": null,
   "metadata": {},
   "outputs": [],
   "source": []
  },
  {
   "cell_type": "code",
   "execution_count": null,
   "metadata": {},
   "outputs": [],
   "source": []
  }
 ],
 "metadata": {
  "kernelspec": {
   "display_name": "Python 3",
   "language": "python",
   "name": "python3"
  },
  "language_info": {
   "codemirror_mode": {
    "name": "ipython",
    "version": 3
   },
   "file_extension": ".py",
   "mimetype": "text/x-python",
   "name": "python",
   "nbconvert_exporter": "python",
   "pygments_lexer": "ipython3",
   "version": "3.6.3"
  }
 },
 "nbformat": 4,
 "nbformat_minor": 2
}
